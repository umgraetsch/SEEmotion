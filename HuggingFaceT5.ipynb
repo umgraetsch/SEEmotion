{
 "cells": [
  {
   "cell_type": "markdown",
   "metadata": {},
   "source": [
    "This notebook should be run SE Emotion Environment"
   ]
  },
  {
   "cell_type": "code",
   "execution_count": 4,
   "metadata": {
    "scrolled": true
   },
   "outputs": [],
   "source": [
    "import csv\n",
    "import pickle\n",
    "filename = 'C:\\\\Users\\\\umg\\\\Development\\\\SEmotion\\\\03_Journal\\\\Data\\\\merged_training.pkl'\n",
    "infile = open(filename,'rb')\n",
    "training_data = pickle.load(infile)\n",
    "infile.close()"
   ]
  },
  {
   "cell_type": "code",
   "execution_count": 5,
   "metadata": {},
   "outputs": [
    {
     "data": {
      "text/html": [
       "<div>\n",
       "<style scoped>\n",
       "    .dataframe tbody tr th:only-of-type {\n",
       "        vertical-align: middle;\n",
       "    }\n",
       "\n",
       "    .dataframe tbody tr th {\n",
       "        vertical-align: top;\n",
       "    }\n",
       "\n",
       "    .dataframe thead th {\n",
       "        text-align: right;\n",
       "    }\n",
       "</style>\n",
       "<table border=\"1\" class=\"dataframe\">\n",
       "  <thead>\n",
       "    <tr style=\"text-align: right;\">\n",
       "      <th></th>\n",
       "      <th>text</th>\n",
       "      <th>emotions</th>\n",
       "    </tr>\n",
       "  </thead>\n",
       "  <tbody>\n",
       "    <tr>\n",
       "      <th>27383</th>\n",
       "      <td>i feel awful about it too because it s my job ...</td>\n",
       "      <td>sadness</td>\n",
       "    </tr>\n",
       "    <tr>\n",
       "      <th>110083</th>\n",
       "      <td>im alone i feel awful</td>\n",
       "      <td>sadness</td>\n",
       "    </tr>\n",
       "    <tr>\n",
       "      <th>140764</th>\n",
       "      <td>ive probably mentioned this before but i reall...</td>\n",
       "      <td>joy</td>\n",
       "    </tr>\n",
       "    <tr>\n",
       "      <th>100071</th>\n",
       "      <td>i was feeling a little low few days back</td>\n",
       "      <td>sadness</td>\n",
       "    </tr>\n",
       "    <tr>\n",
       "      <th>2837</th>\n",
       "      <td>i beleive that i am much more sensitive to oth...</td>\n",
       "      <td>love</td>\n",
       "    </tr>\n",
       "  </tbody>\n",
       "</table>\n",
       "</div>"
      ],
      "text/plain": [
       "                                                     text emotions\n",
       "27383   i feel awful about it too because it s my job ...  sadness\n",
       "110083                              im alone i feel awful  sadness\n",
       "140764  ive probably mentioned this before but i reall...      joy\n",
       "100071           i was feeling a little low few days back  sadness\n",
       "2837    i beleive that i am much more sensitive to oth...     love"
      ]
     },
     "execution_count": 5,
     "metadata": {},
     "output_type": "execute_result"
    }
   ],
   "source": [
    "training_data.head()"
   ]
  },
  {
   "cell_type": "code",
   "execution_count": 6,
   "metadata": {},
   "outputs": [
    {
     "data": {
      "text/plain": [
       "text        416809\n",
       "emotions    416809\n",
       "dtype: int64"
      ]
     },
     "execution_count": 6,
     "metadata": {},
     "output_type": "execute_result"
    }
   ],
   "source": [
    "training_data.count()"
   ]
  },
  {
   "cell_type": "code",
   "execution_count": 7,
   "metadata": {},
   "outputs": [
    {
     "data": {
      "text/plain": [
       "<matplotlib.axes._subplots.AxesSubplot at 0x19e12d46108>"
      ]
     },
     "execution_count": 7,
     "metadata": {},
     "output_type": "execute_result"
    },
    {
     "data": {
      "image/png": "[encoded data removed]",
      "text/plain": [
       "<Figure size 432x288 with 1 Axes>"
      ]
     },
     "metadata": {
      "needs_background": "light"
     },
     "output_type": "display_data"
    }
   ],
   "source": [
    "training_data.emotions.value_counts().plot.bar()"
   ]
  },
  {
   "cell_type": "code",
   "execution_count": 8,
   "metadata": {},
   "outputs": [
    {
     "data": {
      "text/plain": [
       "pandas.core.frame.DataFrame"
      ]
     },
     "execution_count": 8,
     "metadata": {},
     "output_type": "execute_result"
    }
   ],
   "source": [
    "type(training_data)"
   ]
  },
  {
   "cell_type": "code",
   "execution_count": 8,
   "metadata": {},
   "outputs": [],
   "source": [
    "training_data.to_csv('C:\\\\Users\\\\umg\\\\Development\\\\SEmotion\\\\03_Journal\\\\Data\\\\training_data.csv')"
   ]
  },
  {
   "cell_type": "code",
   "execution_count": 9,
   "metadata": {},
   "outputs": [
    {
     "name": "stderr",
     "output_type": "stream",
     "text": [
      "C:\\Users\\umg\\.conda\\envs\\SE Emotion\\lib\\site-packages\\transformers\\modeling_auto.py:798: FutureWarning: The class `AutoModelWithLMHead` is deprecated and will be removed in a future version. Please use `AutoModelForCausalLM` for causal language models, `AutoModelForMaskedLM` for masked language models and `AutoModelForSeq2SeqLM` for encoder-decoder models.\n",
      "  FutureWarning,\n"
     ]
    }
   ],
   "source": [
    "from transformers import AutoTokenizer, AutoModelWithLMHead\n",
    "\n",
    "tokenizer = AutoTokenizer.from_pretrained(\"mrm8488/t5-small-finetuned-emotion\")\n",
    "\n",
    "model = AutoModelWithLMHead.from_pretrained(\"mrm8488/t5-small-finetuned-emotion\")\n"
   ]
  },
  {
   "cell_type": "code",
   "execution_count": 10,
   "metadata": {},
   "outputs": [],
   "source": [
    "def get_emotion(text):\n",
    "  input_ids = tokenizer.encode(text + '</s>', return_tensors='pt')\n",
    "\n",
    "  output = model.generate(input_ids=input_ids,\n",
    "               max_length=2)\n",
    "\n",
    "  dec = [tokenizer.decode(ids) for ids in output]\n",
    "  label = dec[0]\n",
    "  return label\n",
    "\n"
   ]
  },
  {
   "cell_type": "code",
   "execution_count": 11,
   "metadata": {},
   "outputs": [],
   "source": [
    "#Nicely formated timespan from Jeff Heaton\n",
    "def hms_string(sec_elapsed):\n",
    "    h = int(sec_elapsed / (60*60))\n",
    "    m = int((sec_elapsed % (60*60)) / 60)\n",
    "    s = sec_elapsed % 60\n",
    "    return \"{}:{:>02}:{:>05.2f}\".format(h, m, s)"
   ]
  },
  {
   "cell_type": "code",
   "execution_count": 12,
   "metadata": {},
   "outputs": [
    {
     "data": {
      "text/plain": [
       "'joy'"
      ]
     },
     "execution_count": 12,
     "metadata": {},
     "output_type": "execute_result"
    }
   ],
   "source": [
    " get_emotion(\"i feel as if i havent blogged in ages are at least truly blogged i am doing an update cute\") # Output: 'joy'\n",
    "\n"
   ]
  },
  {
   "cell_type": "code",
   "execution_count": 13,
   "metadata": {},
   "outputs": [
    {
     "data": {
      "text/plain": [
       "'sadness'"
      ]
     },
     "execution_count": 13,
     "metadata": {},
     "output_type": "execute_result"
    }
   ],
   "source": [
    " get_emotion(\"i have a feeling i kinda lost my best friend\") # Output: 'sadness'"
   ]
  },
  {
   "cell_type": "code",
   "execution_count": 14,
   "metadata": {},
   "outputs": [
    {
     "data": {
      "text/plain": [
       "'joy'"
      ]
     },
     "execution_count": 14,
     "metadata": {},
     "output_type": "execute_result"
    }
   ],
   "source": [
    "get_emotion(\"I want to build a cloud \"\"based\"\" solution in which I would give a pool of images; and then ask for find similar image to a particular image from this pool of images !! Pool of images can be like all t-shirt images. Hence, similar images mean t-shirt with similar design/color/sleeves etc.Tagging solution won't work as they are at very high level.AWS Rekognition gives facial similarities .. but not product similarities .. it does not work like for images of dresses..I am open to use any cloud providers; but all are providing tags of the image which won't help me.One solution could be that I use some ML framework like MXNet/Tensorflow, create my own models, train them and then use.. But is there any other ready made solution on any of cloud providers ?\")"
   ]
  },
  {
   "cell_type": "code",
   "execution_count": 15,
   "metadata": {},
   "outputs": [
    {
     "data": {
      "text/plain": [
       "'fear'"
      ]
     },
     "execution_count": 15,
     "metadata": {},
     "output_type": "execute_result"
    }
   ],
   "source": [
    "get_emotion(\"Using Airflow I want to get the result of an SQL Query fomratted as a pandas DataFrame.Above is the python function that I want to execute in a. Here is the DAG:But, the work step is throwing an exception. Here is the log :This exception is due to this, which accroding to the descriptionhides another exception, still strange because I'm not doing any insertion.What am I doing wrong? Maybe there is a problem withused in the. Or, dataFrame is not the way to go in order to handle query results.PS: result of\")"
   ]
  },
  {
   "cell_type": "code",
   "execution_count": 16,
   "metadata": {},
   "outputs": [
    {
     "data": {
      "text/plain": [
       "'anger'"
      ]
     },
     "execution_count": 16,
     "metadata": {},
     "output_type": "execute_result"
    }
   ],
   "source": [
    "get_emotion(\"I am trying to use aws rekognition to compare faces but it will give an error saying check if the object and bucket exist in same regionwhile uploading the image i have set the content type to image/jpeg formatbut when i upload an image using aws console from computer the rekognition will work ! am i doing something wrong in this code\")"
   ]
  },
  {
   "cell_type": "code",
   "execution_count": 18,
   "metadata": {},
   "outputs": [],
   "source": [
    "#Read in the visionAPIClassificationFile - the important columns are \"ID\" and \"Question Text\"\n",
    "import pandas as pd\n",
    "visionapi_df = pd.DataFrame\n",
    "filename = 'C:\\\\Users\\\\umg\\\\Development\\\\SEmotion\\\\03_Journal\\\\Data\\VisionAPIQuestions_source.csv'\n",
    "visionapi_df = pd.read_csv(filename, sep=',', )\n"
   ]
  },
  {
   "cell_type": "code",
   "execution_count": 19,
   "metadata": {},
   "outputs": [],
   "source": [
    "#Nicely formated timespan from Jeff Heaton\n",
    "def hms_string(sec_elapsed):\n",
    "    h = int(sec_elapsed / (60*60))\n",
    "    m = int((sec_elapsed % (60*60)) / 60)\n",
    "    s = sec_elapsed % 60\n",
    "    return \"{}:{:>02}:{:>05.2f}\".format(h, m, s)\n",
    "\n"
   ]
  },
  {
   "cell_type": "code",
   "execution_count": null,
   "metadata": {},
   "outputs": [],
   "source": [
    "#Strip out the delimit the \"\" so that HuggingFace API calls will work"
   ]
  },
  {
   "cell_type": "code",
   "execution_count": 40,
   "metadata": {},
   "outputs": [
    {
     "name": "stdout",
     "output_type": "stream",
     "text": [
      "We have processed questions 100\n",
      "We have processed questions 200\n"
     ]
    },
    {
     "name": "stderr",
     "output_type": "stream",
     "text": [
      "Token indices sequence length is longer than the specified maximum sequence length for this model (650 > 512). Running this sequence through the model will result in indexing errors\n"
     ]
    },
    {
     "name": "stdout",
     "output_type": "stream",
     "text": [
      "We have processed questions 300\n",
      "We have processed questions 400\n"
     ]
    },
    {
     "name": "stderr",
     "output_type": "stream",
     "text": [
      "Token indices sequence length is longer than the specified maximum sequence length for this model (537 > 512). Running this sequence through the model will result in indexing errors\n"
     ]
    },
    {
     "name": "stdout",
     "output_type": "stream",
     "text": [
      "We have processed questions 500\n"
     ]
    },
    {
     "name": "stderr",
     "output_type": "stream",
     "text": [
      "Token indices sequence length is longer than the specified maximum sequence length for this model (791 > 512). Running this sequence through the model will result in indexing errors\n"
     ]
    },
    {
     "name": "stdout",
     "output_type": "stream",
     "text": [
      "We have processed questions 600\n",
      "We have processed questions 700\n",
      "We have processed questions 800\n",
      "We have processed questions 900\n"
     ]
    },
    {
     "name": "stderr",
     "output_type": "stream",
     "text": [
      "Token indices sequence length is longer than the specified maximum sequence length for this model (588 > 512). Running this sequence through the model will result in indexing errors\n"
     ]
    },
    {
     "name": "stdout",
     "output_type": "stream",
     "text": [
      "We have processed questions 1,000\n"
     ]
    },
    {
     "name": "stderr",
     "output_type": "stream",
     "text": [
      "Token indices sequence length is longer than the specified maximum sequence length for this model (1215 > 512). Running this sequence through the model will result in indexing errors\n"
     ]
    },
    {
     "name": "stdout",
     "output_type": "stream",
     "text": [
      "We have processed questions 1,100\n",
      "We have processed questions 1,200\n"
     ]
    },
    {
     "name": "stderr",
     "output_type": "stream",
     "text": [
      "Token indices sequence length is longer than the specified maximum sequence length for this model (569 > 512). Running this sequence through the model will result in indexing errors\n"
     ]
    },
    {
     "name": "stdout",
     "output_type": "stream",
     "text": [
      "Total pre-processing runtime: 0:01:40.05\n"
     ]
    }
   ],
   "source": [
    "#Process the Vision API dataframe and write result to CSV file\n",
    "import time\n",
    "totalCount = 0\n",
    "start_time = time.time()\n",
    "result_df = visionapi_df.copy()  # take a copy of the dataframe\n",
    "\n",
    "for index, row in result_df.iterrows():\n",
    "    totalCount+=1\n",
    "    result_df.loc[index,'T5Result'] = get_emotion(row['Question Text']) \n",
    "    if totalCount > 1 and (totalCount % 100) == 0:\n",
    "        print(\"We have processed questions {:,}\".format(totalCount))\n",
    "time_took = time.time() - start_time\n",
    "print(f\"Total pre-processing runtime: {hms_string(time_took)}\")\n",
    "t5filename = 'C:\\\\Users\\\\umg\\\\Development\\\\SEmotion\\\\03_Journal\\\\Data\\VisionAPIQuestions_T5out.csv'\n",
    "result_df.to_csv(t5filename)"
   ]
  },
  {
   "cell_type": "code",
   "execution_count": 26,
   "metadata": {},
   "outputs": [],
   "source": [
    "result_df.to_csv(t5filename)"
   ]
  },
  {
   "cell_type": "code",
   "execution_count": 39,
   "metadata": {},
   "outputs": [
    {
     "data": {
      "text/html": [
       "<div>\n",
       "<style scoped>\n",
       "    .dataframe tbody tr th:only-of-type {\n",
       "        vertical-align: middle;\n",
       "    }\n",
       "\n",
       "    .dataframe tbody tr th {\n",
       "        vertical-align: top;\n",
       "    }\n",
       "\n",
       "    .dataframe thead th {\n",
       "        text-align: right;\n",
       "    }\n",
       "</style>\n",
       "<table border=\"1\" class=\"dataframe\">\n",
       "  <thead>\n",
       "    <tr style=\"text-align: right;\">\n",
       "      <th></th>\n",
       "      <th>ID</th>\n",
       "      <th>FearID</th>\n",
       "      <th>fear</th>\n",
       "      <th>JoyID</th>\n",
       "      <th>joy</th>\n",
       "      <th>LoveID</th>\n",
       "      <th>love</th>\n",
       "      <th>SadID</th>\n",
       "      <th>Sadness</th>\n",
       "      <th>SurpriseID</th>\n",
       "      <th>surprise</th>\n",
       "      <th>AngerID</th>\n",
       "      <th>anger</th>\n",
       "      <th>NoEmotionID</th>\n",
       "      <th>none</th>\n",
       "      <th>NoOfEmotions</th>\n",
       "      <th>Include</th>\n",
       "      <th>Question Text</th>\n",
       "      <th>T5Result</th>\n",
       "    </tr>\n",
       "  </thead>\n",
       "  <tbody>\n",
       "    <tr>\n",
       "      <th>0</th>\n",
       "      <td>45033467</td>\n",
       "      <td>45033467</td>\n",
       "      <td>fear</td>\n",
       "      <td>45033467</td>\n",
       "      <td>NoJoy</td>\n",
       "      <td>45033467</td>\n",
       "      <td>love</td>\n",
       "      <td>45033467</td>\n",
       "      <td>notsadness</td>\n",
       "      <td>45033467</td>\n",
       "      <td>notsurprise</td>\n",
       "      <td>45033467</td>\n",
       "      <td>NotAnger</td>\n",
       "      <td>45033467</td>\n",
       "      <td>NaN</td>\n",
       "      <td>2.0</td>\n",
       "      <td>Yes</td>\n",
       "      <td>\"I want to build a cloud based solution in whi...</td>\n",
       "      <td>joy</td>\n",
       "    </tr>\n",
       "    <tr>\n",
       "      <th>1</th>\n",
       "      <td>45546462</td>\n",
       "      <td>45546462</td>\n",
       "      <td>fear</td>\n",
       "      <td>45546462</td>\n",
       "      <td>NoJoy</td>\n",
       "      <td>45546462</td>\n",
       "      <td>notlove</td>\n",
       "      <td>45546462</td>\n",
       "      <td>notsadness</td>\n",
       "      <td>45546462</td>\n",
       "      <td>notsurprise</td>\n",
       "      <td>45546462</td>\n",
       "      <td>NotAnger</td>\n",
       "      <td>45546462</td>\n",
       "      <td>NaN</td>\n",
       "      <td>1.0</td>\n",
       "      <td>YES</td>\n",
       "      <td>\"I have problem with access to camera first ti...</td>\n",
       "      <td>joy</td>\n",
       "    </tr>\n",
       "    <tr>\n",
       "      <th>2</th>\n",
       "      <td>49619897</td>\n",
       "      <td>49619897</td>\n",
       "      <td>notfear</td>\n",
       "      <td>49619897</td>\n",
       "      <td>NoJoy</td>\n",
       "      <td>49619897</td>\n",
       "      <td>notlove</td>\n",
       "      <td>49619897</td>\n",
       "      <td>notsadness</td>\n",
       "      <td>49619897</td>\n",
       "      <td>surprise</td>\n",
       "      <td>49619897</td>\n",
       "      <td>Anger</td>\n",
       "      <td>49619897</td>\n",
       "      <td>NaN</td>\n",
       "      <td>2.0</td>\n",
       "      <td>Yes</td>\n",
       "      <td>\"Using Airflow I want to get the result of an ...</td>\n",
       "      <td>fear</td>\n",
       "    </tr>\n",
       "    <tr>\n",
       "      <th>3</th>\n",
       "      <td>55388663</td>\n",
       "      <td>55388663</td>\n",
       "      <td>notfear</td>\n",
       "      <td>55388663</td>\n",
       "      <td>NoJoy</td>\n",
       "      <td>55388663</td>\n",
       "      <td>notlove</td>\n",
       "      <td>55388663</td>\n",
       "      <td>notsadness</td>\n",
       "      <td>55388663</td>\n",
       "      <td>notsurprise</td>\n",
       "      <td>55388663</td>\n",
       "      <td>NotAnger</td>\n",
       "      <td>55388663</td>\n",
       "      <td>NoEmotion</td>\n",
       "      <td>0.0</td>\n",
       "      <td>Yes</td>\n",
       "      <td>\"I try to use Google Cloud Vision API to detec...</td>\n",
       "      <td>joy</td>\n",
       "    </tr>\n",
       "    <tr>\n",
       "      <th>4</th>\n",
       "      <td>52833231</td>\n",
       "      <td>52833231</td>\n",
       "      <td>notfear</td>\n",
       "      <td>52833231</td>\n",
       "      <td>NoJoy</td>\n",
       "      <td>52833231</td>\n",
       "      <td>notlove</td>\n",
       "      <td>52833231</td>\n",
       "      <td>notsadness</td>\n",
       "      <td>52833231</td>\n",
       "      <td>notsurprise</td>\n",
       "      <td>52833231</td>\n",
       "      <td>NotAnger</td>\n",
       "      <td>52833231</td>\n",
       "      <td>NoEmotion</td>\n",
       "      <td>0.0</td>\n",
       "      <td>Yes</td>\n",
       "      <td>\"How can i write a test case in Junit for amaz...</td>\n",
       "      <td>joy</td>\n",
       "    </tr>\n",
       "  </tbody>\n",
       "</table>\n",
       "</div>"
      ],
      "text/plain": [
       "         ID    FearID     fear     JoyID    joy    LoveID     love     SadID  \\\n",
       "0  45033467  45033467     fear  45033467  NoJoy  45033467     love  45033467   \n",
       "1  45546462  45546462     fear  45546462  NoJoy  45546462  notlove  45546462   \n",
       "2  49619897  49619897  notfear  49619897  NoJoy  49619897  notlove  49619897   \n",
       "3  55388663  55388663  notfear  55388663  NoJoy  55388663  notlove  55388663   \n",
       "4  52833231  52833231  notfear  52833231  NoJoy  52833231  notlove  52833231   \n",
       "\n",
       "      Sadness  SurpriseID     surprise   AngerID     anger  NoEmotionID  \\\n",
       "0  notsadness    45033467  notsurprise  45033467  NotAnger     45033467   \n",
       "1  notsadness    45546462  notsurprise  45546462  NotAnger     45546462   \n",
       "2  notsadness    49619897     surprise  49619897     Anger     49619897   \n",
       "3  notsadness    55388663  notsurprise  55388663  NotAnger     55388663   \n",
       "4  notsadness    52833231  notsurprise  52833231  NotAnger     52833231   \n",
       "\n",
       "        none  NoOfEmotions Include  \\\n",
       "0        NaN           2.0     Yes   \n",
       "1        NaN           1.0     YES   \n",
       "2        NaN           2.0     Yes   \n",
       "3  NoEmotion           0.0     Yes   \n",
       "4  NoEmotion           0.0     Yes   \n",
       "\n",
       "                                       Question Text T5Result  \n",
       "0  \"I want to build a cloud based solution in whi...      joy  \n",
       "1  \"I have problem with access to camera first ti...      joy  \n",
       "2  \"Using Airflow I want to get the result of an ...     fear  \n",
       "3  \"I try to use Google Cloud Vision API to detec...      joy  \n",
       "4  \"How can i write a test case in Junit for amaz...      joy  "
      ]
     },
     "execution_count": 39,
     "metadata": {},
     "output_type": "execute_result"
    }
   ],
   "source": [
    "result_df.head()"
   ]
  },
  {
   "cell_type": "code",
   "execution_count": null,
   "metadata": {},
   "outputs": [],
   "source": []
  }
 ],
 "metadata": {
  "kernelspec": {
   "display_name": "Python 3",
   "language": "python",
   "name": "python3"
  },
  "language_info": {
   "codemirror_mode": {
    "name": "ipython",
    "version": 3
   },
   "file_extension": ".py",
   "mimetype": "text/x-python",
   "name": "python",
   "nbconvert_exporter": "python",
   "pygments_lexer": "ipython3",
   "version": "3.6.10"
  }
 },
 "nbformat": 4,
 "nbformat_minor": 4
}
